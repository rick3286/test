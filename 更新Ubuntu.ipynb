{
  "nbformat": 4,
  "nbformat_minor": 0,
  "metadata": {
    "colab": {
      "provenance": [],
      "authorship_tag": "ABX9TyNA4AeVrCbe542oricL4hQL",
      "include_colab_link": true
    },
    "kernelspec": {
      "name": "python3",
      "display_name": "Python 3"
    },
    "language_info": {
      "name": "python"
    }
  },
  "cells": [
    {
      "cell_type": "markdown",
      "metadata": {
        "id": "view-in-github",
        "colab_type": "text"
      },
      "source": [
        "<a href=\"https://colab.research.google.com/github/rick3286/test/blob/main/%E6%9B%B4%E6%96%B0Ubuntu.ipynb\" target=\"_parent\"><img src=\"https://colab.research.google.com/assets/colab-badge.svg\" alt=\"Open In Colab\"/></a>"
      ]
    },
    {
      "cell_type": "code",
      "execution_count": 2,
      "metadata": {
        "colab": {
          "base_uri": "https://localhost:8080/"
        },
        "id": "4Q32ySs5acH2",
        "outputId": "52bc2e6e-e9fd-4cd9-fe9a-1e16df81c85d"
      },
      "outputs": [
        {
          "output_type": "stream",
          "name": "stdout",
          "text": [
            "Downloading: chromium-codecs-ffmpeg-extra_112.0.5615.49-0ubuntu0.18.04.1_amd64.deb\n",
            "Installing: chromium-codecs-ffmpeg-extra_112.0.5615.49-0ubuntu0.18.04.1_amd64.deb\n",
            "\n",
            "Downloading: chromium-codecs-ffmpeg_112.0.5615.49-0ubuntu0.18.04.1_amd64.deb\n",
            "Installing: chromium-codecs-ffmpeg_112.0.5615.49-0ubuntu0.18.04.1_amd64.deb\n",
            "\n",
            "Downloading: chromium-browser_112.0.5615.49-0ubuntu0.18.04.1_amd64.deb\n",
            "Installing: chromium-browser_112.0.5615.49-0ubuntu0.18.04.1_amd64.deb\n",
            "\n",
            "Downloading: chromium-chromedriver_112.0.5615.49-0ubuntu0.18.04.1_amd64.deb\n",
            "Installing: chromium-chromedriver_112.0.5615.49-0ubuntu0.18.04.1_amd64.deb\n",
            "\n",
            "Chromium installation successfull.\n"
          ]
        }
      ],
      "source": [
        "import os\n",
        "import re\n",
        "import subprocess\n",
        "import requests\n",
        "\n",
        "# The deb files we need to install\n",
        "deb_files_startstwith = [\n",
        "    \"chromium-codecs-ffmpeg-extra_\",\n",
        "    \"chromium-codecs-ffmpeg_\",\n",
        "    \"chromium-browser_\",\n",
        "    \"chromium-chromedriver_\"\n",
        "]\n",
        "\n",
        "def get_latest_version() -> str:\n",
        "    # A request to security.ubuntu.com for getting latest version of chromium-browser\n",
        "    # e.g. \"112.0.5615.49-0ubuntu0.18.04.1_amd64.deb\"\n",
        "    url = \"http://security.ubuntu.com/ubuntu/pool/universe/c/chromium-browser/\"\n",
        "    r = requests.get(url)\n",
        "    if r.status_code != 200:\n",
        "        raise Exception(\"status_code code not 200!\")\n",
        "    text = r.text\n",
        "\n",
        "    # Find latest version\n",
        "    pattern = '<a\\shref=\"chromium\\-browser_([^\"]+.ubuntu0\\.18\\.04\\.1_amd64\\.deb)'\n",
        "    latest_version_search = re.search(pattern, text)\n",
        "    if latest_version_search:\n",
        "        latest_version = latest_version_search.group(1)\n",
        "    else:\n",
        "        raise Exception(\"Can not find latest version!\")\n",
        "    return latest_version\n",
        "\n",
        "def download(latest_version: str, quiet: bool):\n",
        "    deb_files = []\n",
        "    for deb_file in deb_files_startstwith:\n",
        "        deb_files.append(deb_file + latest_version)\n",
        "\n",
        "    for deb_file in deb_files:\n",
        "        url = f\"http://security.ubuntu.com/ubuntu/pool/universe/c/chromium-browser/{deb_file}\"\n",
        "\n",
        "        # Download deb file\n",
        "        if quiet:\n",
        "            command = f\"wget -q -O /content/{deb_file} {url}\"\n",
        "        else:\n",
        "            command = f\"wget -O /content/{deb_file} {url}\"\n",
        "        print(f\"Downloading: {deb_file}\")\n",
        "        # os.system(command)\n",
        "        !$command\n",
        "\n",
        "        # Install deb file\n",
        "        if quiet:\n",
        "            command = f\"apt-get install /content/{deb_file} >> apt.log\"\n",
        "        else:\n",
        "            command = f\"apt-get install /content/{deb_file}\"\n",
        "        print(f\"Installing: {deb_file}\\n\")\n",
        "        # os.system(command)\n",
        "        !$command\n",
        "\n",
        "        # Delete deb file from disk\n",
        "        os.remove(f\"/content/{deb_file}\")\n",
        "\n",
        "def check_chromium_installation():\n",
        "    try:\n",
        "        subprocess.call([\"chromium-browser\"])\n",
        "        print(\"Chromium installation successfull.\")\n",
        "    except FileNotFoundError:\n",
        "        print(\"Chromium Installation Failed!\")\n",
        "\n",
        "def install_selenium_package(quiet: bool):\n",
        "    if quiet:\n",
        "        !pip install selenium -qq >> pip.log\n",
        "    else:\n",
        "        !pip install selenium\n",
        "\n",
        "def main(quiet: bool):\n",
        "    # Get the latest version of chromium-browser for ubuntu 18.04\n",
        "    latest_version = get_latest_version()\n",
        "    # Download and install chromium-browser for ubuntu 20.04\n",
        "    download(latest_version, quiet)\n",
        "    # Check if installation succesfull\n",
        "    check_chromium_installation()\n",
        "    # Finally install selenium package\n",
        "    install_selenium_package(quiet)\n",
        "\n",
        "if __name__ == '__main__':\n",
        "    quiet = True # verboseness of wget and apt\n",
        "    main(quiet)\n"
      ]
    }
  ]
}